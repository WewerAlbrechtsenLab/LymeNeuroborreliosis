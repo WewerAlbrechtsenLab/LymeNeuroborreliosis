{
 "cells": [
  {
   "cell_type": "markdown",
   "id": "0",
   "metadata": {},
   "source": [
    "# Comparisions\n",
    "\n",
    "This notebook contains the code to reproduce the comparisons between:\n",
    "1) plasma and csf findings from this study\n",
    "2) findings from this study with other studies"
   ]
  },
  {
   "cell_type": "code",
   "execution_count": null,
   "id": "1",
   "metadata": {},
   "outputs": [],
   "source": [
    "import pandas as pd\n",
    "import numpy as np\n",
    "import os\n",
    "\n",
    "import plotly.express as px\n",
    "from upsetplot import plot\n",
    "from matplotlib import pyplot\n",
    "import seaborn as sns\n",
    "import plotly.graph_objects as go\n",
    "import random\n",
    "import plotly.io as pio\n",
    "from upsetplot import plot\n",
    "from matplotlib import pyplot\n",
    "\n",
    "import alphastats"
   ]
  },
  {
   "cell_type": "code",
   "execution_count": null,
   "id": "2",
   "metadata": {},
   "outputs": [],
   "source": [
    "# load results from this study\n",
    "nielsen_CSF_uniprot = pd.read_csv(\"../submission/combined_lst_csf_pval.csv\")\n",
    "proteome_raw = pd.read_csv('../data/CSFreport.pg_matrix.tsv', sep = '\\t')\n",
    "nielsen_CSF = proteome_raw[proteome_raw['Protein.Group'].isin(nielsen_CSF_uniprot['csf_identifiers_pval'].tolist())][['Protein.Group','Genes']]\n",
    "#nielsen_CSF['Protein.Group'] = nielsen_CSF['Protein.Group'].str.split(';').str[0]\n",
    "#nielsen_CSF['Genes'] = nielsen_CSF['Genes'].str.split(';').str[0]\n",
    "\n",
    "nielsen_CSF_uniprot_log2 = pd.read_csv(\"../submission/combined_lst_csf.csv\")\n",
    "nielsen_CSF_log2 = proteome_raw[proteome_raw['Protein.Group'].isin(nielsen_CSF_uniprot_log2['csf_identifiers'].tolist())][['Protein.Group','Genes']]\n",
    "#nielsen_CSF_log2['Protein.Group'] = nielsen_CSF_log2['Protein.Group'].str.split(';').str[0]\n",
    "#nielsen_CSF_log2['Genes'] = nielsen_CSF['Genes'].str.split(';').str[0]\n",
    "\n",
    "nielsen_plasma_uniprot = pd.read_csv(\"../submission/combined_lst_plasma.csv\")\n",
    "proteome_raw = pd.read_csv('../data/plasmareport.pg_matrix.tsv', sep = '\\t')\n",
    "nielsen_plasma = proteome_raw[proteome_raw['Protein.Group'].isin(nielsen_plasma_uniprot['plasma_identifiers'].tolist())][['Protein.Group','Genes']]\n",
    "#nielsen_plasma['Protein.Group'] = nielsen_plasma['Protein.Group'].str.split(';').str[0]\n",
    "#nielsen_plasma['Genes'] = nielsen_plasma['Genes'].str.split(';').str[0]\n"
   ]
  },
  {
   "cell_type": "code",
   "execution_count": null,
   "id": "3",
   "metadata": {},
   "outputs": [],
   "source": [
    "plt.figure(figsize=(6, 6))\n",
    "venn3(subsets = [set(nielsen_plasma['Protein.Group'].unique().tolist()), set(nielsen_CSF_log2['Protein.Group'].unique().tolist()), set(nielsen_CSF['Protein.Group'].unique().tolist())], set_labels=('plasma','CSF_pval','CSF_PVAL_LOG2'))\n",
    "combined_blood_csf = [x for x in nielsen_plasma['Protein.Group'].unique().tolist() if x in nielsen_CSF['Protein.Group'].unique().tolist()]\n",
    "print(len(combined_blood_csf))\n",
    "#pd.DataFrame(combined_blood_csf, columns = ['identifiers']).to_csv('../submission/combined_blood_csf.csv', index = None)\n",
    "\n",
    "\n",
    "#plt.savefig(\"../output_blood/venn_diagram_CSF_plasma_pval_log2.svg\", format=\"svg\")\n",
    "plt.show()\n",
    "\n"
   ]
  },
  {
   "cell_type": "code",
   "execution_count": null,
   "id": "4",
   "metadata": {},
   "outputs": [],
   "source": [
    "dfs = []\n",
    "for groups in [['csf','development'],['plasma','development']]:\n",
    "    tissue = groups[0]\n",
    "    run = groups[1]\n",
    "    if tissue == 'csf':\n",
    "        loader = alphastats.DIANNLoader(file = \"../submission/aps_data_corrected_csf_{}.tsv\".format(run))\n",
    "    else:\n",
    "        loader = alphastats.DIANNLoader(file = \"../submission/aps_data_corrected_{}_{}.tsv\".format(tissue, run))\n",
    "    dataset = alphastats.DataSet(\n",
    "        loader = loader, \n",
    "        metadata_path=\"../submission/aps_meta_{}.xlsx\".format(tissue), \n",
    "        sample_column=\"sample_id\"\n",
    "    )\n",
    "    dataset.preprocess(\n",
    "        log2_transform=True,\n",
    "        remove_contaminations=True\n",
    "    )"
   ]
  },
  {
   "cell_type": "code",
   "execution_count": null,
   "id": "5",
   "metadata": {},
   "outputs": [],
   "source": [
    "# is up/down regulation in lnb the same direction for plasma and csf?\n",
    "\n",
    "dfs = []\n",
    "for groups in [['csf','development'],['plasma','development']]:\n",
    "    print(groups)\n",
    "    tissue = groups[0]\n",
    "    run = groups[1]\n",
    "    if tissue == 'csf':\n",
    "        loader = alphastats.DIANNLoader(file = \"../submission/aps_data_corrected_csf_{}.tsv\".format(run))\n",
    "    else:\n",
    "        loader = alphastats.DIANNLoader(file = \"../submission/aps_data_corrected_{}_{}.tsv\".format(tissue, run))\n",
    "    dataset = alphastats.DataSet(\n",
    "        loader = loader, \n",
    "        metadata_path=\"../submission/aps_meta_{}.xlsx\".format(tissue), \n",
    "        sample_column=\"sample_id\"\n",
    "    )\n",
    "    dataset.preprocess(\n",
    "        log2_transform=True,\n",
    "        remove_contaminations=True\n",
    "    )\n",
    "    diff_exp_VM = dataset.diff_expression_analysis('LNB','VM',column='diagnosis', fdr=0.05)\n",
    "    diff_exp_VM = diff_exp_VM.set_index(['Protein.Group']).T[combined_blood_csf]\n",
    "    diff_exp_VM['comparison'] = 'VM'\n",
    "    diff_exp_VM['tissue'] = tissue\n",
    "    diff_exp_control = dataset.diff_expression_analysis('LNB','control',column='diagnosis', fdr=0.05)\n",
    "    diff_exp_control= diff_exp_control.set_index(['Protein.Group']).T[combined_blood_csf]\n",
    "    diff_exp_control['comparison'] = 'control'\n",
    "    diff_exp_control['tissue'] = tissue\n",
    "    dfs.append(diff_exp_VM)\n",
    "    dfs.append(diff_exp_control)\n",
    "\n"
   ]
  },
  {
   "cell_type": "code",
   "execution_count": null,
   "id": "6",
   "metadata": {},
   "outputs": [],
   "source": [
    "dfs_df = pd.concat(dfs).reset_index().set_index(['index','comparison','tissue'])\n",
    "# add gene\n",
    "gene_mapping = proteome_raw.set_index('Protein.Group')\n",
    "# replace missing genenames with protein identifier\n",
    "gene_mapping.loc[gene_mapping.Genes.isnull(), \"Genes\"]=gene_mapping.loc[gene_mapping.Genes.isnull()].index.tolist()\n",
    "dfs_df.columns = gene_mapping.loc[combined_blood_csf]['Genes'].tolist()\n"
   ]
  },
  {
   "cell_type": "code",
   "execution_count": null,
   "id": "7",
   "metadata": {},
   "outputs": [],
   "source": [
    "sub_dfs = dfs_df.loc[dfs_df.index.get_level_values('index') == 'log2fc'].droplevel('index')\n",
    "#order = sub_dfs.mean().sort_values().index.tolist()\n",
    "sub_dfs = sub_dfs.T\n",
    "sub_null = dfs_df.loc[dfs_df.index.get_level_values('index') == 'pval'].droplevel('index')\n",
    "sub_null = sub_null.T\n",
    "sub_null[sub_null>=0.05] = np.nan\n",
    "\n",
    "g = sns.clustermap(sub_dfs, mask = sub_null.isnull(), \n",
    "               cmap = 'vlag', \n",
    "               center = 0,\n",
    "               figsize = (3,20),\n",
    "               col_cluster=False, row_cluster=True)\n",
    "g.figure.savefig(\"../submission/f5b.svg\")"
   ]
  },
  {
   "cell_type": "code",
   "execution_count": null,
   "id": "8",
   "metadata": {},
   "outputs": [],
   "source": [
    "heatmap_order = sub_dfs.iloc[g.dendrogram_row.reordered_ind].index.tolist()"
   ]
  },
  {
   "cell_type": "code",
   "execution_count": null,
   "id": "9",
   "metadata": {},
   "outputs": [],
   "source": [
    "# Sankey data\n",
    "annotation_table = pd.read_csv('../data/annotation_table_plasma.tsv', sep = '\\t')\n",
    "\n",
    "sankey_df = pd.merge(pd.DataFrame(gene_mapping.reset_index().set_index('Genes').loc[sub_dfs.index.tolist()]['Protein.Group'].tolist(), columns = ['Entry']), annotation_table[['Entry','GO','Gene Names']].drop_duplicates(), on = 'Entry', how = 'left')\n",
    "sankey_df.fillna('nan', inplace = True)\n",
    "# sort the df according to heatmap\n",
    "sankey_df['Entry'] = pd.Categorical(sankey_df['Entry'], categories=heatmap_order, ordered=True)\n",
    "sankey_df = sankey_df.sort_values(['Entry'])\n",
    "# format the df\n",
    "sankey_df.Entry = sankey_df.Entry.astype(str)\n",
    "sankey_df['Gene Names'] = sankey_df['Gene Names'].str.split(' ', expand = True)[0] "
   ]
  },
  {
   "cell_type": "code",
   "execution_count": null,
   "id": "10",
   "metadata": {},
   "outputs": [],
   "source": [
    "# Sankey plot\n",
    "\n",
    "# Get unique values of Genes and annotations\n",
    "all_Genes = list(sankey_df['Gene Names'].unique())\n",
    "#all_Genes.reverse()\n",
    "all_annotations = list(sankey_df['GO'].unique())\n",
    "\n",
    "\n",
    "# Create indices for sankey source (Gene Namess) and targets (annotations)\n",
    "sankey_df['Gene Names_index'] = sankey_df['Gene Names'].apply(lambda x: all_Genes.index(x))\n",
    "sankey_df = sankey_df.sort_values(by='Gene Names_index').reset_index(drop=True)  # Ensure sankey_df is sorted by the order of 'all_Genes'\n",
    "sankey_df['annotation_index'] = sankey_df['GO'].apply(lambda x: len(all_Genes) + all_annotations.index(x))\n",
    "\n",
    "# Generate a color for each annotation\n",
    "colors = ['#'+''.join([random.choice('0123456789ABCDEF') for j in range(6)]) for i in range(len(all_annotations))]\n",
    "\n",
    "# Map annotation index to colors\n",
    "target_colors = {len(all_Genes) + i: colors[i] for i in range(len(all_annotations))}\n",
    "\n",
    "# Create a list of colors for the links based on target node\n",
    "link_colors = [target_colors[target] for target in sankey_df['annotation_index']]\n",
    "\n",
    "# Define node positions for source nodes (x = 0.1 for all sources, y spaced evenly)\n",
    "source_y_positions = [i / len(all_Genes) for i in range(len(all_Genes))]  # Evenly spaced source y positions\n",
    "source_x_positions = [0.1] * len(all_Genes)  # Fixed x position for sources\n",
    "\n",
    "# Only set positions for sources, leave target positions to be automatically placed\n",
    "node_x_positions = source_x_positions + [None] * len(all_annotations)  # No x positions for targets\n",
    "node_y_positions = source_y_positions + [None] * len(all_annotations)  # No y positions for targets\n",
    "\n",
    "# Create Sankey diagram\n",
    "fig = go.Figure(go.Sankey(\n",
    "    node = dict(\n",
    "        pad = 15,\n",
    "        thickness = 20,\n",
    "        line = dict(color = \"black\", width = 0.5),\n",
    "        label = all_Genes + all_annotations,\n",
    "        x = node_x_positions,\n",
    "        y = node_y_positions\n",
    "    ),\n",
    "    link = dict(\n",
    "        source = sankey_df['Gene Names_index'],  # starting points (Gene Namess)\n",
    "        target = sankey_df['annotation_index'],  # end points (annotations)\n",
    "        value = [1] * len(sankey_df),  # each link has equal value (1 for each protein-GO link)\n",
    "        color = link_colors  # set the color of links\n",
    "    )\n",
    "))\n",
    "\n",
    "# Update layout and display the figure\n",
    "fig.update_layout(title_text=\"Sankey Diagram of Protein Gene Names and Annotations\", \n",
    "                  font_size=10,\n",
    "                  height=800,\n",
    "                  width=600)\n",
    "\n",
    "# Define the path where you want to save the PDF\n",
    "output_path = '../submission/f5b_sankey.svg'\n",
    "\n",
    "# Save the figure \n",
    "pio.write_image(fig, output_path, format='svg')\n",
    "\n",
    "fig.show()"
   ]
  },
  {
   "cell_type": "markdown",
   "id": "11",
   "metadata": {},
   "source": [
    "### Comparison to other studies"
   ]
  },
  {
   "cell_type": "code",
   "execution_count": null,
   "id": "12",
   "metadata": {},
   "outputs": [],
   "source": [
    "# This study\n",
    "nielsen_CSF['Protein.Group'] = nielsen_CSF['Protein.Group'].str.split(';').str[0]\n",
    "nielsen_CSF['Genes'] = nielsen_CSF['Genes'].str.split(';').str[0]\n",
    "\n",
    "nielsen_CSF_log2['Protein.Group'] = nielsen_CSF_log2['Protein.Group'].str.split(';').str[0]\n",
    "nielsen_CSF_log2['Genes'] = nielsen_CSF['Genes'].str.split(';').str[0]\n",
    "\n",
    "nielsen_plasma['Protein.Group'] = nielsen_plasma['Protein.Group'].str.split(';').str[0]\n",
    "nielsen_plasma['Genes'] = nielsen_plasma['Genes'].str.split(';').str[0]"
   ]
  },
  {
   "cell_type": "code",
   "execution_count": null,
   "id": "13",
   "metadata": {},
   "outputs": [],
   "source": [
    "# load gene to uniprot_id mapping (downloaded from uniprot)\n",
    "idmapping = pd.read_csv('idmapping.tsv', sep='\\t')\n",
    "idmapping.columns = ['Protein.Group','Genes']\n",
    "idmapping['Genes'].unique().shape\n",
    "#NOTE some genes have multiple uniprot id mappings: idmapping[idmapping.Genes.duplicated(keep = False)].sort_values(['Genes'])\n",
    "\n"
   ]
  },
  {
   "cell_type": "code",
   "execution_count": null,
   "id": "14",
   "metadata": {},
   "outputs": [],
   "source": [
    "# Study by Angel et al\n",
    "angel = pd.read_excel('angel.xlsx')\n",
    "angel_ms_csf_LD = angel[angel['p-value'] < 0.05]['Gene Symbol'].str.split(';').str[0].unique().tolist()\n",
    "angel_ms_csf_LD_uniprot = idmapping[idmapping.Genes.isin(angel_ms_csf_LD)]['Protein.Group'].unique().tolist()\n",
    "print(len(angel_ms_csf_LD))\n",
    "print(len(angel_ms_csf_LD_uniprot))\n"
   ]
  },
  {
   "cell_type": "code",
   "execution_count": null,
   "id": "15",
   "metadata": {},
   "outputs": [],
   "source": [
    "additional_mapping = [item for item in angel_ms_csf_LD if item not in idmapping['Genes'].tolist()]\n",
    "angel_ms_csf_LD_uniprot += additional_mapping"
   ]
  },
  {
   "cell_type": "code",
   "execution_count": null,
   "id": "16",
   "metadata": {},
   "outputs": [],
   "source": [
    "#Fredriksson et al\n",
    "fredriksson_olink_plasma_children = ['CST5', 'IL15RA', 'CXCL10', 'DNER', 'CX3CL1']\n",
    "fredriksson_olink_plasma_children_uniprot = idmapping[idmapping.Genes.isin(fredriksson_olink_plasma_children)]['Protein.Group'].unique().tolist()\n",
    "fredriksson_olink_plasma_children_uniprot"
   ]
  },
  {
   "cell_type": "code",
   "execution_count": null,
   "id": "17",
   "metadata": {},
   "outputs": [],
   "source": [
    "# Nilsson et al\n",
    "\n",
    "# CSF\n",
    "nilsson_olink_csf_PTLDS = pd.read_excel('nilsson.xlsx', sheet_name = 'T-test CSF')\n",
    "nilsson_olink_csf_PTLDS_gene = nilsson_olink_csf_PTLDS[nilsson_olink_csf_PTLDS['Adjusted_pval']< 0.05]['Name'].unique().tolist()\n",
    "nilsson_olink_csf_PTLDS_uniprot = nilsson_olink_csf_PTLDS[nilsson_olink_csf_PTLDS['Adjusted_pval']< 0.05]['UniProt'].str.split(',').str[0].unique().tolist()\n",
    "print(len(nilsson_olink_csf_PTLDS_gene))\n",
    "print(len(nilsson_olink_csf_PTLDS_uniprot))\n",
    "# Serum\n",
    "nilsson_olink_serum_PTLDS =  pd.read_excel('nilsson.xlsx', sheet_name = 'T-test Serum')\n",
    "nilsson_olink_serum_PTLDS_gene = nilsson_olink_serum_PTLDS[nilsson_olink_serum_PTLDS['Adjusted_pval']< 0.05]['Name'].unique().tolist()\n",
    "nilsson_olink_serum_PTLDS_uniprot = nilsson_olink_serum_PTLDS[nilsson_olink_serum_PTLDS['Adjusted_pval']< 0.05]['UniProt'].str.split(',').str[0].unique().tolist()\n",
    "print(len(nilsson_olink_serum_PTLDS_gene))\n",
    "print(len(nilsson_olink_serum_PTLDS_uniprot))\n"
   ]
  },
  {
   "cell_type": "code",
   "execution_count": null,
   "id": "18",
   "metadata": {},
   "outputs": [],
   "source": [
    "# Gegotek et al\n",
    "Gegotek_ms_serum_NB = pd.read_excel('gegotek/1-s2.0-S0882401024005618-mmc1.xlsx')\n",
    "Gegotek_ms_serum_NB = Gegotek_ms_serum_NB[Gegotek_ms_serum_NB.comparison.str.contains('NB1_ctl')]\n",
    "Gegotek_ms_serum_NB_uniprot = Gegotek_ms_serum_NB[Gegotek_ms_serum_NB['p.val'] < 0.05]['Protein ID'].unique().tolist()\n",
    "print(len(Gegotek_ms_serum_NB[Gegotek_ms_serum_NB['p.val'] < 0.05]['Protein ID'].unique().tolist()))"
   ]
  },
  {
   "cell_type": "code",
   "execution_count": null,
   "id": "19",
   "metadata": {},
   "outputs": [],
   "source": [
    "nielsen_CSF_uniprot = nielsen_CSF['Protein.Group'].unique().tolist()\n",
    "print(len(nielsen_CSF))\n",
    "nielsen_plasma_uniprot = nielsen_plasma['Protein.Group'].unique().tolist()\n",
    "#nielsen_plasma = pd.read_excel('nielsen_plasma.xlsx')\n",
    "#nielsen_plasma_uniprot = nielsen_plasma[nielsen_plasma['Adjusted p-value'] < 0.05]['Protein.Group'].str.split(';').str[0].unique().tolist() \n",
    "#nielsen_plasma = nielsen_plasma[nielsen_plasma['Adjusted p-value'] < 0.05]['Genes'].str.split(';').str[0].unique().tolist()\n",
    "print(len(nielsen_plasma_uniprot))"
   ]
  },
  {
   "cell_type": "code",
   "execution_count": null,
   "id": "20",
   "metadata": {},
   "outputs": [],
   "source": [
    "# gather studies\n",
    "\n",
    "cols = [\n",
    "    pd.Series(nielsen_CSF_uniprot, index=nielsen_CSF_uniprot, name=\"nielsen_CSF_uniprot\"),\n",
    "    pd.Series(nielsen_plasma_uniprot, index=nielsen_plasma_uniprot, name=\"nielsen_plasma_uniprot\"),\n",
    "    pd.Series(angel_ms_csf_LD_uniprot, index=angel_ms_csf_LD_uniprot, name=\"angel_ms_csf_LD_uniprot\"),\n",
    "    pd.Series(Gegotek_ms_serum_NB_uniprot, index=Gegotek_ms_serum_NB_uniprot, name=\"Gegotek_ms_serum_NB_uniprot\"),\n",
    "    pd.Series(nilsson_olink_csf_PTLDS_uniprot, index=nilsson_olink_csf_PTLDS_uniprot, name=\"nilsson_olink_csf_PTLDS_uniprot\"),\n",
    "    pd.Series(nilsson_olink_serum_PTLDS_uniprot, index=nilsson_olink_serum_PTLDS_uniprot, name=\"nilsson_olink_serum_PTLDS_uniprot\"),\n",
    "    pd.Series(fredriksson_olink_plasma_children_uniprot, index=fredriksson_olink_plasma_children_uniprot, name=\"fredriksson_olink_plasma_children_uniprot\"),\n",
    "]\n",
    "\n",
    "df = pd.concat(cols, axis=1).sort_index()\n"
   ]
  },
  {
   "cell_type": "code",
   "execution_count": null,
   "id": "21",
   "metadata": {},
   "outputs": [],
   "source": [
    "df = pd.merge(idmapping, df, right_index=True, left_on='Protein.Group', how='right').reset_index(drop=True)\n",
    "# name genes with no mapping 'Unknown' + cumulative sum\n",
    "df.loc[df.Genes.isnull(),'Genes'] = 'Unknown_' + (df.Genes.isnull().cumsum()).astype(str)\n",
    "df[df.Genes.str.contains('Unknown')]\n"
   ]
  },
  {
   "cell_type": "code",
   "execution_count": null,
   "id": "22",
   "metadata": {},
   "outputs": [],
   "source": [
    "# Handle duplicated genes\n",
    "# Identify study columns (everything except Protein.Group + Genes)\n",
    "study_cols = df.columns.difference([\"Protein.Group\", \"Genes\"])\n",
    "\n",
    "# Group by Genes\n",
    "collapsed = (\n",
    "    df.groupby(\"Genes\", as_index=False)\n",
    "      .agg(\n",
    "          {\n",
    "              \"Protein.Group\": lambda x: \";\".join(x),   # merge all protein IDs\n",
    "              **{col: lambda x: \";\".join(sorted(set(x.dropna()))) for col in study_cols}\n",
    "          }\n",
    "      )\n",
    ")\n",
    "collapsed.replace('', np.nan, inplace=True)\n",
    "collapsed = collapsed.drop_duplicates()\n",
    "print(df.shape)\n",
    "print(collapsed.shape)"
   ]
  },
  {
   "cell_type": "code",
   "execution_count": null,
   "id": "23",
   "metadata": {},
   "outputs": [],
   "source": [
    "df_overlap = df.set_index(['Genes', 'Protein.Group']).dropna(thresh=2)\n",
    "# subset to this study\n",
    "df_overlap = df_overlap[(df_overlap.nielsen_CSF_uniprot.notnull())|(df_overlap.nielsen_plasma_uniprot.notnull())].sort_values(['Genes'])\n",
    "df_overlap[['nielsen_CSF_uniprot','nielsen_plasma_uniprot','angel_ms_csf_LD_uniprot','Gegotek_ms_serum_NB_uniprot','nilsson_olink_csf_PTLDS_uniprot','nilsson_olink_serum_PTLDS_uniprot','fredriksson_olink_plasma_children_uniprot']].to_excel('comparison_proteins_overlap.xlsx')\n",
    "df_overlap.shape"
   ]
  },
  {
   "cell_type": "code",
   "execution_count": null,
   "id": "24",
   "metadata": {},
   "outputs": [],
   "source": [
    "pivot_df = df.set_index('Protein.Group').drop(columns=['Genes'])\n",
    "\n",
    "# replace all valid values with 1\n",
    "pivot_df = pivot_df.notnull().astype(int)\n",
    "\n",
    "# Convert to boolean (if not already)\n",
    "df_bool = pivot_df.astype(bool)\n",
    "\n",
    "# Convert to a MultiIndex Series usable by upsetplot\n",
    "upset_data = df_bool.groupby(list(df_bool.columns)).size()\n"
   ]
  },
  {
   "cell_type": "code",
   "execution_count": null,
   "id": "25",
   "metadata": {},
   "outputs": [],
   "source": [
    "from upsetplot import UpSet\n",
    "\n",
    "upset = UpSet(upset_data, show_counts=True)\n",
    "upset.plot()\n",
    "pyplot.savefig(\"../submission/f5c.pdf\")"
   ]
  }
 ],
 "metadata": {
  "kernelspec": {
   "display_name": "BBH (alphastats-project)",
   "language": "python",
   "name": "alphastats-project"
  },
  "language_info": {
   "codemirror_mode": {
    "name": "ipython",
    "version": 3
   },
   "file_extension": ".py",
   "mimetype": "text/x-python",
   "name": "python",
   "nbconvert_exporter": "python",
   "pygments_lexer": "ipython3",
   "version": "3.9.18"
  }
 },
 "nbformat": 4,
 "nbformat_minor": 5
}
